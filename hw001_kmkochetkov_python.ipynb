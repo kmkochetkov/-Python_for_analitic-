{
 "cells": [
  {
   "cell_type": "markdown",
   "id": "23a1fbea",
   "metadata": {},
   "source": [
    "## Задача 1\n",
    "\n",
    "Оформляйте ноутбук, используя эти советы:\n",
    "\n",
    "Номер задачи - ## заголовок2\n",
    "\n",
    "Номер подзадачи - ### заголовок 3\n",
    "\n",
    "Предоставленные наборы данных оформляйте, как код"
   ]
  },
  {
   "cell_type": "markdown",
   "id": "44f83ae8",
   "metadata": {},
   "source": [
    "## Задача 2\n",
    "На складе лежат разные фрукты в разном количестве. Нужно написать функцию, которая на вход принимает любое количество названий фруктов и их количество, а возвращает общее количество фруктов на складе"
   ]
  },
  {
   "cell_type": "code",
   "execution_count": 29,
   "id": "54d84c67",
   "metadata": {},
   "outputs": [
    {
     "data": {
      "text/plain": [
       "6172"
      ]
     },
     "execution_count": 29,
     "metadata": {},
     "output_type": "execute_result"
    }
   ],
   "source": [
    "def func(data: dict):\n",
    "    sum = 0\n",
    "    for i in data:\n",
    "        sum += data[i]\n",
    "    return sum\n",
    "total_fruits = {\n",
    "    'Айва': 301,\n",
    "    'Груша': 5006,\n",
    "    'Яблоко': 145,\n",
    "    'Питахайя': 600,\n",
    "    'Авокадо': 120\n",
    "}\n",
    "\n",
    "\n",
    "func(total_fruits)"
   ]
  },
  {
   "cell_type": "markdown",
   "id": "7d5206e1",
   "metadata": {},
   "source": [
    "На складе всего 6172 фруктов."
   ]
  },
  {
   "cell_type": "markdown",
   "id": "b9442394",
   "metadata": {},
   "source": [
    "## Задача 3\n",
    "\n",
    "Дан список с затратами на рекламу. Но в данных есть ошибки, некоторые затраты имеют отрицательную величину. Удалите такие значения из списка и посчитайте суммарные затраты"
   ]
  },
  {
   "cell_type": "code",
   "execution_count": 30,
   "id": "bc3811ef",
   "metadata": {},
   "outputs": [],
   "source": [
    "expenses = [100, 125, -90, 345, 655, -1, 0, 200]"
   ]
  },
  {
   "cell_type": "code",
   "execution_count": 31,
   "id": "cbaa74f0",
   "metadata": {},
   "outputs": [
    {
     "data": {
      "text/plain": [
       "1425"
      ]
     },
     "execution_count": 31,
     "metadata": {},
     "output_type": "execute_result"
    }
   ],
   "source": [
    "# в условии суммы добавлен ноль, так как это нулевые затраты, но на результат это не влияет\n",
    "sum ([i for i in expenses if i >= 0])"
   ]
  },
  {
   "cell_type": "markdown",
   "id": "49445376",
   "metadata": {},
   "source": [
    "Затраты на рекламу равны 1425."
   ]
  },
  {
   "cell_type": "markdown",
   "id": "d45ed2a8",
   "metadata": {},
   "source": [
    "## Задача 4\n",
    "Даны два списка.\n",
    "Дата покупки:"
   ]
  },
  {
   "cell_type": "code",
   "execution_count": 32,
   "id": "bf3d93b2",
   "metadata": {},
   "outputs": [],
   "source": [
    "data = ['2021-09-14', '2021-12-15', '2021-09-08', '2021-12-05', '2021-10-09', '2021-09-30', '2021-12-22', '2021-11-29', '2021-12-24', '2021-11-26', '2021-10-27', '2021-12-18', '2021-11-09', '2021-11-23', '2021-09-27', '2021-10-02', '2021-12-27', '2021-09-20', '2021-12-13', '2021-11-01', '2021-11-09', '2021-12-06', '2021-12-08', '2021-10-09', '2021-10-31', '2021-09-30', '2021-11-09', '2021-12-13', '2021-10-26', '2021-12-09']"
   ]
  },
  {
   "cell_type": "code",
   "execution_count": 33,
   "id": "d81f811a",
   "metadata": {},
   "outputs": [],
   "source": [
    "value = [1270, 8413, 9028, 3703, 5739, 4095, 295, 4944, 5723, 3701, 4471, 651, 7037, 4274, 6275, 4988, 6930, 2971, 6592, 2004, 2822, 519, 3406, 2732, 5015, 2008, 316, 6333, 5700, 2887]"
   ]
  },
  {
   "cell_type": "markdown",
   "id": "9566160e",
   "metadata": {},
   "source": [
    "### Задача 4.1\n",
    "Найдите, какая выручка у компании в ноябре Используйте list comprehensions"
   ]
  },
  {
   "cell_type": "code",
   "execution_count": 34,
   "id": "f5f4c09a",
   "metadata": {},
   "outputs": [
    {
     "data": {
      "text/plain": [
       "25098"
      ]
     },
     "execution_count": 34,
     "metadata": {},
     "output_type": "execute_result"
    }
   ],
   "source": [
    "sum ([i[1] for i in list(zip(data, value)) if \"2021-11-\" in i[0]])"
   ]
  },
  {
   "cell_type": "markdown",
   "id": "2cbfd4f9",
   "metadata": {},
   "source": [
    "В ноябре компания выручила 25098"
   ]
  },
  {
   "cell_type": "markdown",
   "id": "16088c1a",
   "metadata": {},
   "source": [
    "### Задача 4.2\n",
    "Найдите выручку компании в зависимости от месяца Для этого напишите функцию, которая на вход принимает список с датами и список с выручкой, а на выходе словарь, где ключи - это месяцы, а значения - это выручка. Используйте аннотирование типов."
   ]
  },
  {
   "cell_type": "code",
   "execution_count": 35,
   "id": "c2407c43",
   "metadata": {},
   "outputs": [
    {
     "data": {
      "text/plain": [
       "{'09': 25647, '12': 45452, '10': 28645, '11': 25098}"
      ]
     },
     "execution_count": 35,
     "metadata": {},
     "output_type": "execute_result"
    }
   ],
   "source": [
    "def profit(data1: list, data2: list) -> dict:\n",
    "    db = [(i[0][5:7], i[1]) for i in zip(data1, data2)]\n",
    "    dikt = {i[0]:0 for i in db}\n",
    "    for i in db:\n",
    "        dikt[i[0]] += i[1]\n",
    "    return dikt\n",
    "\n",
    "profit(data, value)\n",
    "        \n",
    "    "
   ]
  },
  {
   "cell_type": "code",
   "execution_count": null,
   "id": "d560ed5e",
   "metadata": {},
   "outputs": [],
   "source": []
  }
 ],
 "metadata": {
  "kernelspec": {
   "display_name": "Python 3 (ipykernel)",
   "language": "python",
   "name": "python3"
  },
  "language_info": {
   "codemirror_mode": {
    "name": "ipython",
    "version": 3
   },
   "file_extension": ".py",
   "mimetype": "text/x-python",
   "name": "python",
   "nbconvert_exporter": "python",
   "pygments_lexer": "ipython3",
   "version": "3.11.2"
  }
 },
 "nbformat": 4,
 "nbformat_minor": 5
}
